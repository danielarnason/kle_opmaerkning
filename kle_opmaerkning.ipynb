{
 "cells": [
  {
   "cell_type": "code",
   "execution_count": 56,
   "metadata": {},
   "outputs": [],
   "source": [
    "import pandas as pd\n",
    "import json\n",
    "import nltk\n",
    "from nltk.corpus import stopwords\n",
    "from nltk.stem.snowball import DanishStemmer\n",
    "import re\n",
    "import os\n",
    "import seaborn as sns"
   ]
  },
  {
   "cell_type": "code",
   "execution_count": 57,
   "metadata": {},
   "outputs": [
    {
     "name": "stdout",
     "output_type": "stream",
     "text": [
      "[nltk_data] Downloading package stopwords to\n",
      "[nltk_data]     C:\\Users\\jjo4da\\AppData\\Roaming\\nltk_data...\n",
      "[nltk_data]   Package stopwords is already up-to-date!\n"
     ]
    }
   ],
   "source": [
    "# Hent danske stopwords\n",
    "nltk.download('stopwords')\n",
    "stopwords = stopwords.words('danish')\n",
    "stemmer = DanishStemmer()"
   ]
  },
  {
   "cell_type": "code",
   "execution_count": 58,
   "metadata": {},
   "outputs": [],
   "source": [
    "def text_process(directory):\n",
    "    \"\"\"\n",
    "    Indlæser json filer fra en folder go returnerer en dataframe med kle_nr og text kolonne\n",
    "    \"\"\"\n",
    "    data_lst = []\n",
    "    for file in os.listdir(directory):\n",
    "        if file.endswith('.json'):\n",
    "            with open(os.path.join(directory, file), encoding='utf-8') as f:\n",
    "                data = json.load(f)\n",
    "            \n",
    "            kle_nr = data['classes'][0]['id']\n",
    "            text_ord = re.sub('\\W+|\\d+', ' ', data['text'])\n",
    "            text_stop = ' '.join([ord for ord in text_ord.split() if ord not in stopwords])\n",
    "            text_stem = ' '.join([stemmer.stem(ord) for ord in text_stop.split()])\n",
    "            text_result = ' '.join([ord for ord in text_stem.split() if '_' not in ord])\n",
    "            \n",
    "            data_lst.append([kle_nr, text_result])\n",
    "    df = pd.DataFrame(data_lst, columns=['kle_nr', 'text'])\n",
    "    return df"
   ]
  },
  {
   "cell_type": "code",
   "execution_count": 59,
   "metadata": {},
   "outputs": [],
   "source": [
    "# Lav en samlet dataframe med data fra kl og syddjurs\n",
    "df_kl = text_process('data/KL_Blanketter_med_kle/kl_blanketter/')\n",
    "df_syddjurs = text_process('data/syddjurs_med_kle/web/')\n",
    "frames = [df_kl, df_syddjurs]\n",
    "df_samlet = pd.concat(frames)"
   ]
  },
  {
   "cell_type": "code",
   "execution_count": 60,
   "metadata": {},
   "outputs": [
    {
     "data": {
      "text/plain": [
       "32.30.04    72\n",
       "01.03.03    55\n",
       "02.34.02    45\n",
       "54.15.28    41\n",
       "29.09.00    40\n",
       "Name: kle_nr, dtype: int64"
      ]
     },
     "execution_count": 60,
     "metadata": {},
     "output_type": "execute_result"
    }
   ],
   "source": [
    "df_samlet['kle_nr'].value_counts().head()"
   ]
  },
  {
   "cell_type": "code",
   "execution_count": 99,
   "metadata": {},
   "outputs": [],
   "source": [
    "# Imports for ML delen\n",
    "from sklearn.model_selection import train_test_split\n",
    "from sklearn.preprocessing import LabelEncoder\n",
    "from sklearn.feature_extraction.text import TfidfVectorizer, CountVectorizer\n",
    "from sklearn.naive_bayes import MultinomialNB\n",
    "from sklearn.metrics import accuracy_score, precision_score, recall_score, f1_score"
   ]
  },
  {
   "cell_type": "code",
   "execution_count": 100,
   "metadata": {},
   "outputs": [],
   "source": [
    "#Splitte i features og labels\n",
    "X = df_samlet['text']\n",
    "y = df_samlet['kle_nr']\n",
    "\n",
    "# LabelEncode kle numre\n",
    "le = LabelEncoder()\n",
    "y_le = le.fit_transform(y)\n",
    "\n",
    "# Splitte i training og testing sets\n",
    "X_train, X_test, y_train, y_test = train_test_split(X, y_le, test_size=0.2)"
   ]
  },
  {
   "cell_type": "raw",
   "metadata": {},
   "source": []
  }
 ],
 "metadata": {
  "kernelspec": {
   "display_name": "Python 3",
   "language": "python",
   "name": "python3"
  },
  "language_info": {
   "codemirror_mode": {
    "name": "ipython",
    "version": 3
   },
   "file_extension": ".py",
   "mimetype": "text/x-python",
   "name": "python",
   "nbconvert_exporter": "python",
   "pygments_lexer": "ipython3",
   "version": "3.7.0"
  }
 },
 "nbformat": 4,
 "nbformat_minor": 2
}
