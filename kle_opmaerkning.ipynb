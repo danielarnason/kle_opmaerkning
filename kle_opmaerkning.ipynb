{
 "cells": [
  {
   "cell_type": "code",
   "execution_count": 68,
   "metadata": {},
   "outputs": [],
   "source": [
    "import pandas as pd\n",
    "import json\n",
    "import nltk\n",
    "from nltk.corpus import stopwords\n",
    "from nltk.stem.snowball import DanishStemmer\n",
    "import re\n",
    "import os"
   ]
  },
  {
   "cell_type": "code",
   "execution_count": 69,
   "metadata": {},
   "outputs": [
    {
     "name": "stdout",
     "output_type": "stream",
     "text": [
      "[nltk_data] Downloading package stopwords to\n",
      "[nltk_data]     C:\\Users\\jjo4da\\AppData\\Roaming\\nltk_data...\n",
      "[nltk_data]   Package stopwords is already up-to-date!\n"
     ]
    }
   ],
   "source": [
    "# Hent danske stopwords\n",
    "nltk.download('stopwords')\n",
    "stopwords = stopwords.words('danish')\n",
    "stemmer = DanishStemmer()"
   ]
  },
  {
   "cell_type": "code",
   "execution_count": 70,
   "metadata": {},
   "outputs": [],
   "source": [
    "# Indlæs en json fil og parse indholdet med stopord og stemmer\n",
    "with open('data/KL_Blanketter_med_kle/kl_blanketter/ab101.json', encoding='utf-8') as f:\n",
    "    data = json.load(f)\n",
    "\n",
    "kle_nr = data['classes'][0]['id']\n",
    "text_raw = data['text']\n",
    "text_ord = re.sub('\\W+|\\d+', ' ', text_raw)\n",
    "text_ord = re.sub('\\s+', ' ', text_ord)\n",
    "text_stop = ' '.join([ord for ord in text_ord.split() if ord not in stopwords])\n",
    "text_stem = ' '.join([stemmer.stem(ord) for ord in text_stop.split()])"
   ]
  },
  {
   "cell_type": "code",
   "execution_count": 71,
   "metadata": {},
   "outputs": [
    {
     "data": {
      "text/html": [
       "<div>\n",
       "<style scoped>\n",
       "    .dataframe tbody tr th:only-of-type {\n",
       "        vertical-align: middle;\n",
       "    }\n",
       "\n",
       "    .dataframe tbody tr th {\n",
       "        vertical-align: top;\n",
       "    }\n",
       "\n",
       "    .dataframe thead th {\n",
       "        text-align: right;\n",
       "    }\n",
       "</style>\n",
       "<table border=\"1\" class=\"dataframe\">\n",
       "  <thead>\n",
       "    <tr style=\"text-align: right;\">\n",
       "      <th></th>\n",
       "      <th>kle_nr</th>\n",
       "      <th>text</th>\n",
       "    </tr>\n",
       "  </thead>\n",
       "  <tbody>\n",
       "    <tr>\n",
       "      <th>0</th>\n",
       "      <td>15.20.00</td>\n",
       "      <td>blad sid oplys ved henvend navn adres kle g sa...</td>\n",
       "    </tr>\n",
       "  </tbody>\n",
       "</table>\n",
       "</div>"
      ],
      "text/plain": [
       "     kle_nr                                               text\n",
       "0  15.20.00  blad sid oplys ved henvend navn adres kle g sa..."
      ]
     },
     "execution_count": 71,
     "metadata": {},
     "output_type": "execute_result"
    }
   ],
   "source": [
    "# Indlæs text og kle nr ind til en dataframe\n",
    "text_df = pd.DataFrame(columns=['kle_nr', 'text'])\n",
    "test_data = {'kle_nr': kle_nr, 'text': text_stem}\n",
    "text_df.append(test_data, ignore_index=True)"
   ]
  },
  {
   "cell_type": "code",
   "execution_count": null,
   "metadata": {},
   "outputs": [],
   "source": []
  }
 ],
 "metadata": {
  "kernelspec": {
   "display_name": "Python 3",
   "language": "python",
   "name": "python3"
  },
  "language_info": {
   "codemirror_mode": {
    "name": "ipython",
    "version": 3
   },
   "file_extension": ".py",
   "mimetype": "text/x-python",
   "name": "python",
   "nbconvert_exporter": "python",
   "pygments_lexer": "ipython3",
   "version": "3.7.0"
  }
 },
 "nbformat": 4,
 "nbformat_minor": 2
}
